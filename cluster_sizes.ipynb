{
 "cells": [
  {
   "cell_type": "code",
   "execution_count": 3,
   "metadata": {
    "collapsed": false
   },
   "outputs": [
    {
     "name": "stdout",
     "output_type": "stream",
     "text": [
      "[NbConvertApp] Converting notebook event_converter.ipynb to script\n",
      "[NbConvertApp] Writing 2675 bytes to event_converter.py\n"
     ]
    },
    {
     "data": {
      "text/plain": [
       "<module 'event_converter' from 'event_converter.pyc'>"
      ]
     },
     "execution_count": 3,
     "metadata": {},
     "output_type": "execute_result"
    }
   ],
   "source": [
    "import numpy as np\n",
    "import matplotlib.pyplot as plt\n",
    "%matplotlib inline\n",
    "from itertools import chain\n",
    "import scipy.misc\n",
    "import scipy.signal\n",
    "from scipy import ndimage\n",
    "import time\n",
    "import os\n",
    "import pickle\n",
    "from matplotlib.colors import LogNorm\n",
    "\n",
    "!jupyter nbconvert --to script event_converter.ipynb\n",
    "import event_converter\n",
    "from event_converter import *\n",
    "reload(event_converter)"
   ]
  },
  {
   "cell_type": "code",
   "execution_count": 4,
   "metadata": {
    "collapsed": false
   },
   "outputs": [
    {
     "data": {
      "application/javascript": [
       "IPython.OutputArea.auto_scroll_threshold = 9999;\n",
       "// this cell fixes the scroll boxes that are otherwise quite irritating"
      ],
      "text/plain": [
       "<IPython.core.display.Javascript object>"
      ]
     },
     "metadata": {},
     "output_type": "display_data"
    }
   ],
   "source": [
    "%%javascript\n",
    "IPython.OutputArea.auto_scroll_threshold = 9999;\n",
    "// this cell fixes the scroll boxes that are otherwise quite irritating"
   ]
  },
  {
   "cell_type": "code",
   "execution_count": 5,
   "metadata": {
    "collapsed": false
   },
   "outputs": [],
   "source": [
    "def cluster_positions_for_event(event, plot=False):\n",
    "    positions = []\n",
    "    def process_cluster_xy(val, pos):\n",
    "        x = pos / event.shape[1]\n",
    "        y = pos % event.shape[1]\n",
    "        x1 = np.min(x)\n",
    "        x2 = np.max(x)\n",
    "        y1 = np.min(y)\n",
    "        y2 = np.max(y)\n",
    "        positions.append((x1, y1, x2, y2))\n",
    "        return 1\n",
    "    \n",
    "    #timing_start()\n",
    "    labeled_array, num_features = ndimage.label(event)\n",
    "    #print timing_end()\n",
    "    labels = np.arange(1, num_features+1)\n",
    "    \n",
    "    #timing_start()\n",
    "    ndimage.labeled_comprehension(event, labeled_array, labels, process_cluster_xy, int, 0, True)\n",
    "    #print timing_end()\n",
    "    \n",
    "    if plot:\n",
    "        #show_gray(event, 'Event')\n",
    "        hits = np.array(np.where(event == 1))\n",
    "        hits = np.rollaxis(hits, 1)\n",
    "        plt.figure(figsize=(14, 7))\n",
    "        plt.scatter(hits[:,1], hits[:,0], s=5, c=np.array(labeled_array[np.where(event == 1)])*100, edgecolors='face')\n",
    "    return np.array(positions)\n",
    "\n",
    "def cluster_sizes(positions):\n",
    "    return np.vstack([positions[:, 2] - positions[:, 0] + 1, positions[:, 3] - positions[:, 1] + 1]).T\n",
    "\n",
    "def cl_pos_path_and_filename(eta, phi):\n",
    "    return ('data/cluster_positions/' + str(eta) + '/', str(phi) + '.dat')\n",
    "\n",
    "def load_cluster_positions(eta, phi):\n",
    "    path, filename = cl_pos_path_and_filename(eta, phi)\n",
    "    hits = get_hits(eta, phi)\n",
    "    events = list(np.unique(hits[2,:]))\n",
    "    cl_positions = dict()\n",
    "    for eventID in events:\n",
    "        event = get_hit_image(hits, eventID)\n",
    "        positions = cluster_positions_for_event(event)\n",
    "        cl_positions[eventID] = np.array(positions)\n",
    "    if not os.path.exists(path):\n",
    "        os.makedirs(path)\n",
    "    outfile = open(path + filename, 'wb')\n",
    "    pickle.dump(cl_positions, outfile, protocol=pickle.HIGHEST_PROTOCOL)\n",
    "    outfile.close()\n",
    "    return cl_positions\n",
    "\n",
    "def cluster_positions(eta, phi):\n",
    "    path, filename = cl_pos_path_and_filename(eta, phi)\n",
    "    if not os.path.exists(path + filename):\n",
    "        return load_cluster_positions(eta, phi)\n",
    "    else:\n",
    "        infile = open(path + filename, 'r')\n",
    "        data = pickle.load(infile)\n",
    "        infile.close\n",
    "        return data\n",
    "    \n",
    "def cluster_sizes_for_eta(eta):\n",
    "    print 'eta:', eta, 'phi:',\n",
    "    sizes = np.zeros((0,2))\n",
    "    for phi_i in range(0, 16):\n",
    "        print phi_i,\n",
    "        cl_positions = cluster_positions(eta, phi_i)\n",
    "        for eventID, positions in cl_positions.iteritems():                \n",
    "            sz = cluster_sizes(positions)\n",
    "            sizes = np.vstack([sizes, sz])\n",
    "    print\n",
    "    return sizes\n",
    "\n",
    "def mean_size_for_module(eta, phi):\n",
    "    cl_positions = cluster_positions(eta, phi)\n",
    "    sizes = np.zeros((0,2))\n",
    "    for eventID, positions in cl_positions.iteritems():                \n",
    "        sz = cluster_sizes(positions)\n",
    "        sizes = np.vstack([sizes, sz])\n",
    "    return np.mean(sizes, axis=0)\n",
    "\n",
    "def mean_sizes_for_event(eta, phi):\n",
    "    cl_positions = cluster_positions(eta, phi)\n",
    "    sizes = np.zeros((0,2))\n",
    "    for eventID, positions in cl_positions.iteritems():                \n",
    "        sz = cluster_sizes(positions)\n",
    "        sizes = np.vstack([sizes, np.mean(sz, axis=0)])\n",
    "    return sizes"
   ]
  },
  {
   "cell_type": "code",
   "execution_count": 6,
   "metadata": {
    "collapsed": false
   },
   "outputs": [],
   "source": [
    "def hit_histogram(eta_from, eta_to):    \n",
    "    bins = np.linspace(1,200,200)\n",
    "    histogram_vertical = np.zeros(199)\n",
    "    histogram_horizontal = np.zeros(199)\n",
    "\n",
    "    num_events = 0\n",
    "    num_hits = 0\n",
    "\n",
    "    for phi_i in range(0, 16):\n",
    "        print 'phi: ', phi_i, 'eta: ',\n",
    "        for eta_i in range(eta_from, eta_to+1):\n",
    "            print eta_i,\n",
    "            #timing_start()\n",
    "            hits = get_hits(eta_i, phi_i)\n",
    "            events = list(np.unique(hits[2,:]))\n",
    "            #print timing_end(),\n",
    "\n",
    "            ti, th = 0, 0\n",
    "            for eventID in events:\n",
    "                timing_start()\n",
    "                event = get_hit_image(hits, eventID)\n",
    "                ti += timing_end()\n",
    "                \n",
    "                timing_start()\n",
    "                hist, _ = np.histogram(np.sum(event, axis=1), bins = bins)\n",
    "                histogram_horizontal += hist\n",
    "                hist, _ = np.histogram(np.sum(event, axis=0), bins = bins)\n",
    "                histogram_vertical += hist\n",
    "                th += timing_end()\n",
    "\n",
    "                num_events += 1\n",
    "                num_hits += np.sum(event)\n",
    "            #print ti, th\n",
    "        print\n",
    "    return (histogram_horizontal, histogram_vertical, num_hits, num_events)\n",
    "\n",
    "def cons_hit_histogram(eta_from, eta_to):    \n",
    "    bins = np.linspace(1,200,200)\n",
    "    histogram_vertical = np.zeros(199)\n",
    "    histogram_horizontal = np.zeros(199)\n",
    "\n",
    "    num_events = 0\n",
    "    num_hits = 0\n",
    "\n",
    "    for phi_i in range(0, 16):\n",
    "        print 'phi: ', phi_i, 'eta: ',\n",
    "        for eta_i in range(eta_from, eta_to+1):\n",
    "            print eta_i,\n",
    "            #timing_start()\n",
    "            cl_positions = cluster_positions(eta_i, phi_i)\n",
    "            #print timing_end(),\n",
    "\n",
    "            th = 0\n",
    "            for eventID, positions in cl_positions.iteritems():                \n",
    "                timing_start()\n",
    "                sizes = cluster_sizes(positions)\n",
    "                hist, _ = np.histogram(sizes[:,1], bins = bins)\n",
    "                histogram_horizontal += hist\n",
    "                hist, _ = np.histogram(sizes[:,0], bins = bins)\n",
    "                histogram_vertical += hist\n",
    "                th += timing_end()\n",
    "\n",
    "                num_events += 1\n",
    "                num_hits += len(sizes)*np.mean(sizes)\n",
    "            #print th\n",
    "        print\n",
    "    return (histogram_horizontal, histogram_vertical, num_hits, num_events)"
   ]
  },
  {
   "cell_type": "code",
   "execution_count": 7,
   "metadata": {
    "collapsed": true
   },
   "outputs": [],
   "source": [
    "def plot_histograms(hor_hist, vert_hist, title, filename, x_lim=120, x_label='# Hits'):\n",
    "    plt.figure(figsize=(14, 7))\n",
    "    plt.plot(hor_hist, label = 'Hits per row')\n",
    "    plt.plot(vert_hist, label = 'Hits per column')\n",
    "    plt.xlim((0,x_lim))\n",
    "    plt.legend(loc='upper right')\n",
    "    plt.title(title)\n",
    "    plt.ylabel('Count')\n",
    "    plt.xlabel(x_label)\n",
    "    plt.yscale('log')\n",
    "    plt.xticks(np.linspace(0, 120, 31))\n",
    "    plt.grid(True)\n",
    "    plt.savefig(filename)\n",
    "    "
   ]
  },
  {
   "cell_type": "code",
   "execution_count": 8,
   "metadata": {
    "collapsed": false
   },
   "outputs": [],
   "source": [
    "def show_hit_historgram(eta1, eta2):\n",
    "    h_horizontal, h_vertical, num_hits, num_events = hit_histogram(eta1, eta2)\n",
    "\n",
    "    title = 'Number of hits per column/row per event for modules in barrel, layer=0, etaModule=' + str(eta1) + '-' + str(eta2)\n",
    "    plot_histograms(h_horizontal/num_hits, h_vertical/num_hits, title, 'hits_hist_' + str(eta1) + '-' + str(eta2) + '.png')\n",
    "    \n",
    "#show_hit_historgram(14, 16)"
   ]
  },
  {
   "cell_type": "code",
   "execution_count": 9,
   "metadata": {
    "collapsed": false
   },
   "outputs": [],
   "source": [
    "def show_cons_hit_histogram(eta1, eta2):\n",
    "    h_horizontal, h_vertical, num_hits, num_events = cons_hit_histogram(eta1, eta2)\n",
    "\n",
    "    title = 'Length of a consecutive run of hits per event for modules in barrel, layer=0, etaModule=' + str(eta1) + '-' + str(eta2)\n",
    "    plot_histograms(h_horizontal/num_hits, h_vertical/num_hits, title, 'hits_hist_cons_' + str(eta1) + '-' + str(eta2) + '.png')\n",
    "    \n",
    "#show_cons_hit_histogram(14, 16)"
   ]
  },
  {
   "cell_type": "code",
   "execution_count": 10,
   "metadata": {
    "collapsed": false
   },
   "outputs": [],
   "source": [
    "def show_size_heatmap_per_eta(eta1, eta2):\n",
    "    eta_sizes = {}\n",
    "    for eta_i in range(eta1, eta2+1):\n",
    "        eta_sizes[eta_i] = cluster_sizes_for_eta(eta_i)\n",
    "\n",
    "    plt.figure(figsize=(25, 75))\n",
    "    for eta_i in range(eta1, eta2+1):\n",
    "        sizes = eta_sizes[eta_i]\n",
    "        plt.subplot(30, 1, eta_i)\n",
    "        plt.title('Cluster size in eta vs phi for etaModule=' + str(eta_i))\n",
    "        H, yedges, xedges = np.histogram2d(sizes[:, 0], sizes[:, 1], bins=(range(1, 10), range(1, 120)))\n",
    "        norm = LogNorm(1, H.max())\n",
    "        plt.imshow(np.clip(H, 1, H.max()), norm=norm, cmap=\"gray\", interpolation='nearest', origin='low', extent=[xedges[0], xedges[-1], yedges[0], yedges[-1]])\n",
    "        plt.colorbar()\n",
    "    plt.savefig('cluster_size_heat_2.png')\n",
    "    \n",
    "#show_size_heatmap_per_eta(1, 30)"
   ]
  },
  {
   "cell_type": "code",
   "execution_count": 11,
   "metadata": {
    "collapsed": true
   },
   "outputs": [],
   "source": [
    "from math import *\n",
    "\n",
    "def module_pixel_to_eta(eta_i, pixel_i):\n",
    "    height = 336\n",
    "    zi = 0.2 + 40.9 * (eta_i - 1)\n",
    "    zo = 0.2 + 40.9 * (eta_i - 1) + 40.5\n",
    "    r = 65\n",
    "    ti = atan(r/zi)\n",
    "    to = atan(r/zo)\n",
    "    etai = -log(tan(ti/2))\n",
    "    etao = -log(tan(to/2))\n",
    "    return etai + (etao - etai)*(pixel_i-1)/(height-1)\n",
    "\n",
    "def np_module_pixel_to_theta(eta_i, pixel_i):\n",
    "    height = 336\n",
    "    zi = 0.2 + 40.9 * (eta_i - 1)\n",
    "    zo = 0.2 + 40.9 * (eta_i - 1) + 40.5\n",
    "    r = 65\n",
    "    ti = np.arctan(r/zi)\n",
    "    to = np.arctan(r/zo)\n",
    "    return ti + (to - ti)*(pixel_i-1)/(height-1)\n",
    "\n",
    "def np_module_pixel_to_eta(eta_i, pixel_i):\n",
    "    height = 336\n",
    "    ti = np_module_pixel_to_theta(eta_i, 1)\n",
    "    to = np_module_pixel_to_theta(eta_i, height)\n",
    "    etai = -np.log(np.tan(ti/2))\n",
    "    etao = -np.log(np.tan(to/2))\n",
    "    return etai + (etao - etai)*(pixel_i-1)/(height-1)"
   ]
  },
  {
   "cell_type": "code",
   "execution_count": 12,
   "metadata": {
    "collapsed": false
   },
   "outputs": [
    {
     "name": "stdout",
     "output_type": "stream",
     "text": [
      "eta: 1 phi: 0 1 2 3 4 5 6 7 8 9 10 11 12 13 14 15\n",
      "eta: 2 phi: 0 1 2 3 4 5 6 7 8 9 10 11 12 13 14 15\n",
      "eta: 3 phi: 0 1 2 3 4 5 6 7 8 9 10 11 12 13 14 15\n",
      "eta: 4 phi: 0 1 2 3 4 5 6 7 8 9 10 11 12 13 14 15\n",
      "eta: 5 phi: 0 1 2 3 4 5 6 7 8 9 10 11 12 13 14 15\n",
      "eta: 6 phi: 0 1 2 3 4 5 6 7 8 9 10 11 12 13 14 15\n",
      "eta: 7 phi: 0 1 2 3 4 5 6 7 8 9 10 11 12 13 14 15\n",
      "eta: 8 phi: 0 1 2 3 4 5 6 7 8 9 10 11 12 13 14 15\n",
      "eta: 9 phi: 0 1 2 3 4 5 6 7 8 9 10 11 12 13 14 15\n",
      "eta: 10 phi: 0 1 2 3 4 5 6 7 8 9 10 11 12 13 14 15\n",
      "eta: 11 phi: 0 1 2 3 4 5 6 7 8 9 10 11 12 13 14 15\n",
      "eta: 12 phi: 0 1 2 3 4 5 6 7 8 9 10 11 12 13 14 15\n",
      "eta: 13 phi: 0 1 2 3 4 5 6 7 8 9 10 11 12 13 14 15\n",
      "eta: 14 phi: 0 1 2 3 4 5 6 7 8 9 10 11 12 13 14 15\n",
      "eta: 15 phi: 0 1 2 3 4 5 6 7 8 9 10 11 12 13 14 15\n",
      "eta: 16 phi: 0 1 2 3 4 5 6 7 8 9 10 11 12 13 14 15\n",
      "eta: 17 phi: 0 1 2 3 4 5 6 7 8 9 10 11 12 13 14 15\n",
      "eta: 18 phi: 0 1 2 3 4 5 6 7 8 9 10 11 12 13 14 15\n",
      "eta: 19 phi: 0 1 2 3 4 5 6 7 8 9 10 11 12 13 14 15\n",
      "eta: 20 phi: 0 1 2 3 4 5 6 7 8 9 10 11 12 13 14 15\n",
      "eta: 21 phi: 0 1 2 3 4 5 6 7 8 9 10 11 12 13 14 15\n",
      "eta: 22 phi: 0 1 2 3 4 5 6 7 8 9 10 11 12 13 14 15\n",
      "eta: 23 phi: 0 1 2 3 4 5 6 7 8 9 10 11 12 13 14 15\n",
      "eta: 24 phi: 0 1 2 3 4 5 6 7 8 9 10 11 12 13 14 15\n",
      "eta: 25 phi: 0 1 2 3 4 5 6 7 8 9 10 11 12 13 14 15\n",
      "eta: 26 phi: 0 1 2 3 4 5 6 7 8 9 10 11 12 13 14 15\n",
      "eta: 27 phi: 0 1 2 3 4 5 6 7 8 9 10 11 12 13 14 15\n",
      "eta: 28 phi: 0 1 2 3 4 5 6 7 8 9 10 11 12 13 14 15\n",
      "eta: 29 phi: 0 1 2 3 4 5 6 7 8 9 10 11 12 13 14 15\n",
      "eta: 30 phi: 0 1 2 3 4 5 6 7 8 9 10 11 12 13 14 15\n"
     ]
    },
    {
     "data": {
      "image/png": "[encoded data removed]",
      "text/plain": [
       "<matplotlib.figure.Figure at 0x7fad300ce210>"
      ]
     },
     "metadata": {},
     "output_type": "display_data"
    }
   ],
   "source": [
    "def show_length_heatmap_per_eta(eta1, eta2):\n",
    "    eta_lengths = []\n",
    "    for eta_i in range(eta1, eta2+1):\n",
    "        sizes = cluster_sizes_for_eta(eta_i)\n",
    "        sizes[:, 0] = eta_i\n",
    "        eta_lengths.append(sizes)\n",
    "\n",
    "    eta_lengths = np.vstack(eta_lengths)\n",
    "\n",
    "    plt.figure(figsize=(15, 12))\n",
    "    plt.title('Cluster size in z-direction vs eta module (with predictioon for 250x50 um pitch)')\n",
    "    H, yedges, xedges = np.histogram2d(eta_lengths[:, 1], eta_lengths[:, 0], bins=(range(1, 121), range(1, 32)))\n",
    "    norm = LogNorm(1, H.max())\n",
    "    plt.imshow(np.clip(H, 1, H.max()), norm=norm, aspect=0.25, interpolation='nearest', origin='low', extent=[xedges[0], xedges[-1], yedges[0], yedges[-1]])\n",
    "    plt.colorbar()\n",
    "    plt.axis('tight')\n",
    "\n",
    "    eta_i = np.linspace(1, 30, 30)\n",
    "    theta = np_module_pixel_to_theta(eta_i, 186)\n",
    "    length = 250/(50*np.tan(theta))+1\n",
    "    plt.plot(eta_i+0.5, length+0.5)\n",
    "\n",
    "    plt.savefig('cluster_length_eta.png')\n",
    "\n",
    "show_length_heatmap_per_eta(1, 30)\n",
    "    \n",
    "# TODO: split based on ToT - low/high energy"
   ]
  },
  {
   "cell_type": "code",
   "execution_count": 13,
   "metadata": {
    "collapsed": false
   },
   "outputs": [],
   "source": [
    "def show_scatter_sizes_per_event():\n",
    "    plt.figure(figsize=(14, 16))\n",
    "\n",
    "    colors = plt.cm.rainbow(np.linspace(0, 1, 31))\n",
    "\n",
    "    print 'eta: ',\n",
    "    for eta_i in range(30, 0, -1):\n",
    "        print eta_i,\n",
    "        sizes = np.vstack([mean_sizes_for_event(eta_i, phi_i) for phi_i in range(16)])\n",
    "        x_values = sizes[:, 1]\n",
    "        y_values = sizes[:, 0]\n",
    "        plt.scatter(x_values, y_values, c=colors[eta_i], label='eta=' + str(eta_i), edgecolors='face')\n",
    "\n",
    "    plt.legend(loc='lower right')\n",
    "\n",
    "    plt.title('Mean consecutive hit length along eta vs phi per event')\n",
    "    plt.ylabel('Mean consecutive hit length along phi')\n",
    "    plt.xlabel('Mean consecutive hit length along eta')\n",
    "    plt.grid(True)\n",
    "    plt.savefig('scatter_cons_per_event.png')\n",
    "    \n",
    "#show_scatter_sizes_per_event()"
   ]
  },
  {
   "cell_type": "code",
   "execution_count": 14,
   "metadata": {
    "collapsed": false
   },
   "outputs": [],
   "source": [
    "def show_scatter_sizes_per_module():\n",
    "    plt.figure(figsize=(14, 16))\n",
    "\n",
    "    colors = plt.cm.rainbow(np.linspace(0, 1, 31))\n",
    "\n",
    "    print 'eta: ',\n",
    "    for eta_i in range(30, 0, -1):\n",
    "        print eta_i,\n",
    "        sizes = np.array([mean_size_for_module(eta_i, phi_i) for phi_i in range(16)])\n",
    "        x_values = sizes[:, 1]\n",
    "        y_values = sizes[:, 0]\n",
    "        plt.scatter(x_values, y_values, c=colors[eta_i], label='eta=' + str(eta_i), edgecolors='face')\n",
    "\n",
    "    plt.legend(loc='lower right')\n",
    "\n",
    "    plt.title('Mean consecutive hit length along eta vs phi per module')\n",
    "    plt.ylabel('Mean consecutive hit length along phi')\n",
    "    plt.xlabel('Mean consecutive hit length along eta')\n",
    "    plt.grid(True)\n",
    "    plt.savefig('scatter_cons_per_module.png')\n",
    "    \n",
    "#show_scatter_sizes_per_module()"
   ]
  },
  {
   "cell_type": "code",
   "execution_count": null,
   "metadata": {
    "collapsed": true
   },
   "outputs": [],
   "source": []
  }
 ],
 "metadata": {
  "kernelspec": {
   "display_name": "Python 2",
   "language": "python",
   "name": "python2"
  },
  "language_info": {
   "codemirror_mode": {
    "name": "ipython",
    "version": 2
   },
   "file_extension": ".py",
   "mimetype": "text/x-python",
   "name": "python",
   "nbconvert_exporter": "python",
   "pygments_lexer": "ipython2",
   "version": "2.7.12"
  }
 },
 "nbformat": 4,
 "nbformat_minor": 0
}

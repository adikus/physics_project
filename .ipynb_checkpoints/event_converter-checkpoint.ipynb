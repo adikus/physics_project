{
 "cells": [
  {
   "cell_type": "code",
   "execution_count": 32,
   "metadata": {
    "collapsed": true
   },
   "outputs": [],
   "source": [
    "import numpy as np\n",
    "import matplotlib.pyplot as plt\n",
    "%matplotlib inline\n",
    "from itertools import chain\n",
    "import time\n",
    "import os\n",
    "\n",
    "from ROOT import TFile"
   ]
  },
  {
   "cell_type": "code",
   "execution_count": 3,
   "metadata": {
    "collapsed": false
   },
   "outputs": [],
   "source": [
    "# open the file\n",
    "myfile = TFile('../RD53Tree_ExtBrl4_250Events_file0.root')\n",
    "# retrieve the ntuple of interest\n",
    "mychain = myfile.Get('Tree of modules')\n",
    "entries = mychain.GetEntriesFast()"
   ]
  },
  {
   "cell_type": "code",
   "execution_count": 71,
   "metadata": {
    "collapsed": true
   },
   "outputs": [],
   "source": [
    "## Show a grayscale image\n",
    "def show_gray(img, title, **kwargs):\n",
    "    plt.figure(figsize=(14, 7))\n",
    "    plt.imshow(img, cmap=\"gray\", interpolation=\"nearest\", **kwargs)\n",
    "    #plt.axis(\"off\")\n",
    "    plt.title(title)\n",
    "\n",
    "def get_module_entry(phi, eta):\n",
    "    jentry = phi*69 + eta + 34\n",
    "    \n",
    "    # get the next tree in the chain and verify\n",
    "    ientry = mychain.LoadTree(jentry)\n",
    "    if ientry < 0:\n",
    "        return False\n",
    "\n",
    "    # copy next entry into memory and verify\n",
    "    nb = mychain.GetEntry(jentry)\n",
    "    if nb<=0:\n",
    "        return False\n",
    "    \n",
    "    if phi != mychain.phiModule or eta != mychain.etaModule:\n",
    "        # Just a sanity check\n",
    "        print 'Retrieved incorrect module'\n",
    "        return False\n",
    "    \n",
    "    return True\n",
    "\n",
    "def process_hits():\n",
    "    print 'Processing hits for eta=' + str(mychain.etaModule) + ' phi=' + str(mychain.phiModule)\n",
    "    return np.fromiter(chain(mychain.pixelRow, mychain.pixelCol, mychain.Event, mychain.pixelToT), 'int16', -1).reshape(4, len(mychain.pixelCol))\n",
    "\n",
    "def hit_path_and_filename(eta, phi):\n",
    "    return ('data/events/' + str(eta) + '/', str(phi) + '.npy')\n",
    "\n",
    "def load_hits(eta, phi):\n",
    "    get_module_entry(phi=phi, eta=eta)\n",
    "    hits = process_hits()\n",
    "    path, filename = hit_path_and_filename(eta, phi)\n",
    "    if not os.path.exists(path):\n",
    "        os.makedirs(path)\n",
    "    np.save(path + filename, hits)\n",
    "    return hits\n",
    "\n",
    "def get_hits(eta, phi):\n",
    "    path, filename = hit_path_and_filename(eta, phi)\n",
    "    if not os.path.exists(path + filename):\n",
    "        return load_hits(eta, phi)\n",
    "    else:\n",
    "        return np.load(path + filename)  \n",
    "\n",
    "def get_hit_image(hits_with_tot, eventID):\n",
    "    image = np.zeros((336, 804))\n",
    "    ids = np.where(hits_with_tot[2, :] == eventID)\n",
    "    image[hits_with_tot[0:2, ids].tolist()] = 1\n",
    "    return image\n",
    "\n",
    "def get_tot_image(hits_with_tot, eventID):\n",
    "    image = np.zeros((336, 804))\n",
    "    ids = np.where(hits_with_tot[2, :] == eventID)\n",
    "    image[hits_with_tot[0:2, ids].tolist()] = hits_with_tot[3, ids]\n",
    "    return image\n",
    "\n",
    "def timing_start():\n",
    "    global start\n",
    "    start = time.time()\n",
    "\n",
    "def timing_end():\n",
    "    return 1000 * (time.time() - start)"
   ]
  },
  {
   "cell_type": "code",
   "execution_count": 69,
   "metadata": {
    "collapsed": false,
    "scrolled": false
   },
   "outputs": [],
   "source": [
    "def test():\n",
    "    for phi_i in range(0, 16):\n",
    "        for eta_i in range(0, 31):\n",
    "            timing_start()\n",
    "            hits = get_hits(eta_i, phi_i)\n",
    "            print 'Load ToT', eta_i, phi_i, timing_end()"
   ]
  }
 ],
 "metadata": {
  "kernelspec": {
   "display_name": "Python 2",
   "language": "python",
   "name": "python2"
  },
  "language_info": {
   "codemirror_mode": {
    "name": "ipython",
    "version": 2
   },
   "file_extension": ".py",
   "mimetype": "text/x-python",
   "name": "python",
   "nbconvert_exporter": "python",
   "pygments_lexer": "ipython2",
   "version": "2.7.12"
  }
 },
 "nbformat": 4,
 "nbformat_minor": 0
}

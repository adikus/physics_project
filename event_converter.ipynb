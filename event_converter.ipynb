{
 "cells": [
  {
   "cell_type": "markdown",
   "metadata": {},
   "source": [
    "# Event converter\n",
    "\n",
    "This notebook provides helper functions to retrieve module hit data from the `RD53Tree_ExtBrl4_250Events_file0.root` file. This file is expected in one folder above the one this notebook is in (i.e. `../RD53Tree_ExtBrl4_250Events_file0.root`).\n",
    "\n",
    "The two main functions that are defined here are:\n",
    "\n",
    " * `get_hits(eta, phi)`: \n",
    "   Loads all hits from the specified module (only the first layer, for now).\n",
    "   Tries to load the hits from `data/events/eta/phi.npy`. If it cannot find it, \n",
    "   it loads the hits from the tree file and creates this file. This is done because loading \n",
    "   directly from the tree file is quite slow (not sure why, possibly because it \n",
    "   needs to convert from c-style array to python-style array). \n",
    "   Serializing and deserializing using `pickle` is much faster.\n",
    "   \n",
    "   **Returns: hits** : a 4 x N matrix, containg N hits and rows contain `pixelRow`, `pixelColumn`, `Event` and `pixelToT`\n",
    "   \n",
    "   \n",
    " * `get_tot_image(hits, eventID)`:\n",
    "   Takes the matrix containg the hit information (as returned from `get_hits`) and a specific event ID.\n",
    " \n",
    "   **Returns: image**: a 336 x 804 matrix containg the ToT values\n",
    "   \n",
    "See example further down."
   ]
  },
  {
   "cell_type": "code",
   "execution_count": 1,
   "metadata": {
    "collapsed": true
   },
   "outputs": [],
   "source": [
    "## Imports\n",
    "\n",
    "import numpy as np\n",
    "import matplotlib.pyplot as plt\n",
    "%matplotlib inline\n",
    "from itertools import chain\n",
    "import time\n",
    "import os\n",
    "\n",
    "from ROOT import TFile"
   ]
  },
  {
   "cell_type": "code",
   "execution_count": 2,
   "metadata": {
    "collapsed": false
   },
   "outputs": [],
   "source": [
    "## Open the root tree file\n",
    "\n",
    "myfile = TFile('../RD53Tree_ExtBrl4_250Events_file0.root')\n",
    "mychain = myfile.Get('Tree of modules')\n",
    "entries = mychain.GetEntriesFast()"
   ]
  },
  {
   "cell_type": "code",
   "execution_count": 3,
   "metadata": {
    "collapsed": true
   },
   "outputs": [],
   "source": [
    "## Function definitions\n",
    "\n",
    "# Show a grayscale image\n",
    "def show_gray(img, title, **kwargs):\n",
    "    plt.figure(figsize=(14, 7))\n",
    "    plt.imshow(img, cmap=\"gray\", interpolation=\"nearest\", **kwargs)\n",
    "    #plt.axis(\"off\")\n",
    "    plt.title(title)\n",
    "\n",
    "def get_module_entry(phi, eta):\n",
    "    jentry = phi*69 + eta + 34\n",
    "    \n",
    "    # get the next tree in the chain and verify\n",
    "    ientry = mychain.LoadTree(jentry)\n",
    "    if ientry < 0:\n",
    "        return False\n",
    "\n",
    "    # copy next entry into memory and verify\n",
    "    nb = mychain.GetEntry(jentry)\n",
    "    if nb<=0:\n",
    "        return False\n",
    "    \n",
    "    if phi != mychain.phiModule or eta != mychain.etaModule:\n",
    "        # Just a sanity check\n",
    "        print 'Retrieved incorrect module'\n",
    "        return False\n",
    "    \n",
    "    return True\n",
    "\n",
    "def process_hits():\n",
    "    print 'Processing hits for eta=' + str(mychain.etaModule) + ' phi=' + str(mychain.phiModule)\n",
    "    return np.fromiter(chain(mychain.pixelRow, mychain.pixelCol, mychain.Event, mychain.pixelToT), 'int16', -1).reshape(4, len(mychain.pixelCol))\n",
    "\n",
    "def hit_path_and_filename(eta, phi):\n",
    "    return ('data/events/' + str(eta) + '/', str(phi) + '.npy')\n",
    "\n",
    "def load_hits(eta, phi):\n",
    "    get_module_entry(phi=phi, eta=eta)\n",
    "    hits = process_hits()\n",
    "    path, filename = hit_path_and_filename(eta, phi)\n",
    "    if not os.path.exists(path):\n",
    "        os.makedirs(path)\n",
    "    np.save(path + filename, hits)\n",
    "    return hits\n",
    "\n",
    "def get_hits(eta, phi):\n",
    "    path, filename = hit_path_and_filename(eta, phi)\n",
    "    if not os.path.exists(path + filename):\n",
    "        return load_hits(eta, phi)\n",
    "    else:\n",
    "        return np.load(path + filename)  \n",
    "\n",
    "def get_hit_image(hits_with_tot, eventID):\n",
    "    image = np.zeros((336, 804))\n",
    "    ids = np.where(hits_with_tot[2, :] == eventID)\n",
    "    image[hits_with_tot[0:2, ids].tolist()] = 1\n",
    "    return image\n",
    "\n",
    "def get_tot_image(hits_with_tot, eventID):\n",
    "    image = np.zeros((336, 804))\n",
    "    ids = np.where(hits_with_tot[2, :] == eventID)\n",
    "    image[hits_with_tot[0:2, ids].tolist()] = hits_with_tot[3, ids]\n",
    "    return image\n",
    "\n",
    "def timing_start():\n",
    "    global start\n",
    "    start = time.time()\n",
    "\n",
    "def timing_end():\n",
    "    return 1000 * (time.time() - start)"
   ]
  },
  {
   "cell_type": "markdown",
   "metadata": {},
   "source": [
    "## Example"
   ]
  },
  {
   "cell_type": "code",
   "execution_count": 7,
   "metadata": {
    "collapsed": false,
    "scrolled": false
   },
   "outputs": [
    {
     "data": {
      "image/png": "[encoded data removed]",
      "text/plain": [
       "<matplotlib.figure.Figure at 0x7f8188cc4810>"
      ]
     },
     "metadata": {},
     "output_type": "display_data"
    }
   ],
   "source": [
    "def show_single_event(eta, phi, eventID):\n",
    "    hits = get_hits(eta, phi)\n",
    "    image = get_tot_image(hits, eventID)\n",
    "    show_gray(image, 'Single image ToT', origin='lower')\n",
    "    \n",
    "# show_single_event(25, 10, 999)\n",
    "    \n",
    "def iterate_over_all_modules():\n",
    "    for phi_i in range(0, 16):\n",
    "        for eta_i in range(-30, 31):\n",
    "            timing_start()\n",
    "            hits = get_hits(eta_i, phi_i)\n",
    "            print 'Load ToT', eta_i, phi_i, timing_end()\n",
    "            \n",
    "# iterate_over_all_modules()"
   ]
  }
 ],
 "metadata": {
  "kernelspec": {
   "display_name": "Python 2",
   "language": "python",
   "name": "python2"
  },
  "language_info": {
   "codemirror_mode": {
    "name": "ipython",
    "version": 2
   },
   "file_extension": ".py",
   "mimetype": "text/x-python",
   "name": "python",
   "nbconvert_exporter": "python",
   "pygments_lexer": "ipython2",
   "version": "2.7.12"
  }
 },
 "nbformat": 4,
 "nbformat_minor": 0
}
